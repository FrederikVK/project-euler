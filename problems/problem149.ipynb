{
 "cells": [
  {
   "cell_type": "markdown",
   "metadata": {},
   "source": [
    "# Searching for a maximum-sum subsequence\n",
    "\n",
    "## Problem 149\n",
    "\n",
    "Looking at the table below, it is easy to verify that the maximum possible sum of adjacent numbers in any direction (horizontal, vertical, diagonal or anti-diagonal) is $16 (= 8 + 7 + 1)$.\n",
    "\n",
    "$$\n",
    "−2\t5\t3\t2\n",
    "9\t−6\t5\t1\n",
    "3\t2\t7\t3\n",
    "−1\t8\t−4\t  8\n",
    "$$\n",
    "\n",
    "Now, let us repeat the search, but on a much larger scale:\n",
    "\n",
    "First, generate four million pseudo-random numbers using a specific form of what is known as a \"Lagged Fibonacci Generator\":\n",
    "\n",
    "$$ \\text{For } 1 \\leq k \\leq 55, s_k = [100003 − 200003k + 300007k^3] (\\text{ modulo } 1000000) − 500000$$\n",
    "\n",
    "$$ \\text{For } 56 \\leq k \\leq 4000000, s_k = [s_{k−24} + s_{k−55} + 1000000] (\\text{ modulo } 1000000) − 500000$$\n",
    "\n",
    "Thus, $s_{10} = −393.027$ and $s_{100} = 86.613$.\n",
    "\n",
    "The terms of s are then arranged in a 2000×2000 table, using the first 2000 numbers to fill the first row (sequentially), the next 2000 numbers to fill the second row, and so on.\n",
    "\n",
    "Finally, find the greatest sum of (any number of) adjacent entries in any direction (horizontal, vertical, diagonal or anti-diagonal)."
   ]
  },
  {
   "cell_type": "code",
   "execution_count": null,
   "metadata": {},
   "outputs": [],
   "source": []
  }
 ],
 "metadata": {
  "language_info": {
   "name": "python"
  },
  "orig_nbformat": 4
 },
 "nbformat": 4,
 "nbformat_minor": 2
}
