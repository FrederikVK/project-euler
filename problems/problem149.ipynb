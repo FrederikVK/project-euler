{
 "cells": [
  {
   "cell_type": "markdown",
   "metadata": {},
   "source": [
    "# Searching for a maximum-sum subsequence\n",
    "\n",
    "## Problem 149\n",
    "\n",
    "Looking at the table below, it is easy to verify that the maximum possible sum of adjacent numbers in any direction (horizontal, vertical, diagonal or anti-diagonal) is $16 (= 8 + 7 + 1)$.\n",
    "\n",
    "$$\n",
    "−2\t5\t3\t2\n",
    "9\t−6\t5\t1\n",
    "3\t2\t7\t3\n",
    "−1\t8\t−4\t  8\n",
    "$$\n",
    "\n",
    "Now, let us repeat the search, but on a much larger scale:\n",
    "\n",
    "First, generate four million pseudo-random numbers using a specific form of what is known as a \"Lagged Fibonacci Generator\":\n",
    "\n",
    "$$ \\text{For } 1 \\leq k \\leq 55, s_k = [100003 − 200003k + 300007k^3] (\\text{ modulo } 1000000) − 500000$$\n",
    "\n",
    "$$ \\text{For } 56 \\leq k \\leq 4000000, s_k = [s_{k−24} + s_{k−55} + 1000000] (\\text{ modulo } 1000000) − 500000$$\n",
    "\n",
    "Thus, $s_{10} = −393.027$ and $s_{100} = 86.613$.\n",
    "\n",
    "The terms of s are then arranged in a 2000×2000 table, using the first 2000 numbers to fill the first row (sequentially), the next 2000 numbers to fill the second row, and so on.\n",
    "\n",
    "Finally, find the greatest sum of (any number of) adjacent entries in any direction (horizontal, vertical, diagonal or anti-diagonal)."
   ]
  },
  {
   "cell_type": "code",
   "execution_count": 1,
   "metadata": {},
   "outputs": [],
   "source": [
    "def lfg():\n",
    "    res = {}\n",
    "    for k in range(1, 55+1):\n",
    "        res[k] = (100003 - 200003*k + 300007*(k**3)) % int(1e6) - int(5e5)\n",
    "    for k in range(56, int(4e6)+1):\n",
    "        res[k] = (res[k-24] + res[k-55] + int(1e6)) % int(1e6) - int(5e5)\n",
    "\n",
    "    return res"
   ]
  },
  {
   "cell_type": "code",
   "execution_count": 2,
   "metadata": {},
   "outputs": [],
   "source": [
    "res = lfg()"
   ]
  },
  {
   "cell_type": "code",
   "execution_count": 4,
   "metadata": {},
   "outputs": [],
   "source": [
    "def test_10_100(res):\n",
    "    assert res[10] == -393027 \n",
    "    assert res[100] == 86613"
   ]
  },
  {
   "cell_type": "code",
   "execution_count": 6,
   "metadata": {},
   "outputs": [],
   "source": [
    "test_10_100(res)"
   ]
  },
  {
   "cell_type": "code",
   "execution_count": null,
   "metadata": {},
   "outputs": [],
   "source": []
  }
 ],
 "metadata": {
  "interpreter": {
   "hash": "a4e8553e64bc36bc6be87b12213752bf9fcc01544482bb5267d9ec2b4b859be1"
  },
  "kernelspec": {
   "display_name": "Python 3.8.5 64-bit (conda)",
   "language": "python",
   "name": "python3"
  },
  "language_info": {
   "codemirror_mode": {
    "name": "ipython",
    "version": 3
   },
   "file_extension": ".py",
   "mimetype": "text/x-python",
   "name": "python",
   "nbconvert_exporter": "python",
   "pygments_lexer": "ipython3",
   "version": "3.8.5"
  },
  "orig_nbformat": 4
 },
 "nbformat": 4,
 "nbformat_minor": 2
}
